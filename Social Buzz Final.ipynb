{
 "cells": [
  {
   "cell_type": "code",
   "execution_count": 3,
   "id": "370fffb7-0fa8-4bc0-8ac6-6f7636737bea",
   "metadata": {},
   "outputs": [],
   "source": [
    "import pandas as pd"
   ]
  },
  {
   "cell_type": "code",
   "execution_count": 5,
   "id": "f8c881b6-b2ee-4214-8bee-3cdae9c4adbc",
   "metadata": {},
   "outputs": [],
   "source": [
    "content = pd.read_csv('Content.csv')\n",
    "reaction = pd.read_csv('Reactions.csv')\n",
    "reaction_type = pd.read_csv('ReactionTypes.csv')"
   ]
  },
  {
   "cell_type": "code",
   "execution_count": 7,
   "id": "1ffa8126-b6d1-4d25-8e50-dda0c0320613",
   "metadata": {},
   "outputs": [],
   "source": [
    "df1 = content.copy()\n",
    "df2 = reaction.copy()\n",
    "df3 = reaction_type.copy()"
   ]
  },
  {
   "cell_type": "code",
   "execution_count": 9,
   "id": "633225f9-63b1-4e8a-9b5a-f12f4f3ca31d",
   "metadata": {},
   "outputs": [],
   "source": [
    "df1 = df1.drop(columns=['User ID', 'URL', 'Unnamed: 0'])\n",
    "df1 = df1.rename(columns={'Type': 'Content Type'})"
   ]
  },
  {
   "cell_type": "code",
   "execution_count": 11,
   "id": "611a7c3e-209a-453a-9526-4cf1f7ca6c65",
   "metadata": {},
   "outputs": [
    {
     "data": {
      "text/html": [
       "<div>\n",
       "<style scoped>\n",
       "    .dataframe tbody tr th:only-of-type {\n",
       "        vertical-align: middle;\n",
       "    }\n",
       "\n",
       "    .dataframe tbody tr th {\n",
       "        vertical-align: top;\n",
       "    }\n",
       "\n",
       "    .dataframe thead th {\n",
       "        text-align: right;\n",
       "    }\n",
       "</style>\n",
       "<table border=\"1\" class=\"dataframe\">\n",
       "  <thead>\n",
       "    <tr style=\"text-align: right;\">\n",
       "      <th></th>\n",
       "      <th>Unnamed: 0</th>\n",
       "      <th>Content ID</th>\n",
       "      <th>User ID</th>\n",
       "      <th>Type</th>\n",
       "      <th>Datetime</th>\n",
       "    </tr>\n",
       "  </thead>\n",
       "  <tbody>\n",
       "    <tr>\n",
       "      <th>0</th>\n",
       "      <td>0</td>\n",
       "      <td>97522e57-d9ab-4bd6-97bf-c24d952602d2</td>\n",
       "      <td>NaN</td>\n",
       "      <td>NaN</td>\n",
       "      <td>2021-04-22 15:17:15</td>\n",
       "    </tr>\n",
       "    <tr>\n",
       "      <th>1</th>\n",
       "      <td>1</td>\n",
       "      <td>97522e57-d9ab-4bd6-97bf-c24d952602d2</td>\n",
       "      <td>5d454588-283d-459d-915d-c48a2cb4c27f</td>\n",
       "      <td>disgust</td>\n",
       "      <td>2020-11-07 09:43:50</td>\n",
       "    </tr>\n",
       "    <tr>\n",
       "      <th>2</th>\n",
       "      <td>2</td>\n",
       "      <td>97522e57-d9ab-4bd6-97bf-c24d952602d2</td>\n",
       "      <td>92b87fa5-f271-43e0-af66-84fac21052e6</td>\n",
       "      <td>dislike</td>\n",
       "      <td>2021-06-17 12:22:51</td>\n",
       "    </tr>\n",
       "    <tr>\n",
       "      <th>3</th>\n",
       "      <td>3</td>\n",
       "      <td>97522e57-d9ab-4bd6-97bf-c24d952602d2</td>\n",
       "      <td>163daa38-8b77-48c9-9af6-37a6c1447ac2</td>\n",
       "      <td>scared</td>\n",
       "      <td>2021-04-18 05:13:58</td>\n",
       "    </tr>\n",
       "    <tr>\n",
       "      <th>4</th>\n",
       "      <td>4</td>\n",
       "      <td>97522e57-d9ab-4bd6-97bf-c24d952602d2</td>\n",
       "      <td>34e8add9-0206-47fd-a501-037b994650a2</td>\n",
       "      <td>disgust</td>\n",
       "      <td>2021-01-06 19:13:01</td>\n",
       "    </tr>\n",
       "  </tbody>\n",
       "</table>\n",
       "</div>"
      ],
      "text/plain": [
       "   Unnamed: 0                            Content ID  \\\n",
       "0           0  97522e57-d9ab-4bd6-97bf-c24d952602d2   \n",
       "1           1  97522e57-d9ab-4bd6-97bf-c24d952602d2   \n",
       "2           2  97522e57-d9ab-4bd6-97bf-c24d952602d2   \n",
       "3           3  97522e57-d9ab-4bd6-97bf-c24d952602d2   \n",
       "4           4  97522e57-d9ab-4bd6-97bf-c24d952602d2   \n",
       "\n",
       "                                User ID     Type             Datetime  \n",
       "0                                   NaN      NaN  2021-04-22 15:17:15  \n",
       "1  5d454588-283d-459d-915d-c48a2cb4c27f  disgust  2020-11-07 09:43:50  \n",
       "2  92b87fa5-f271-43e0-af66-84fac21052e6  dislike  2021-06-17 12:22:51  \n",
       "3  163daa38-8b77-48c9-9af6-37a6c1447ac2   scared  2021-04-18 05:13:58  \n",
       "4  34e8add9-0206-47fd-a501-037b994650a2  disgust  2021-01-06 19:13:01  "
      ]
     },
     "execution_count": 11,
     "metadata": {},
     "output_type": "execute_result"
    }
   ],
   "source": [
    "df2.head()"
   ]
  },
  {
   "cell_type": "code",
   "execution_count": 13,
   "id": "50f43f85-0271-41ca-bc4b-e8e24b9145c5",
   "metadata": {},
   "outputs": [],
   "source": [
    "df2 = df2.drop(columns=['Datetime', 'Unnamed: 0'])"
   ]
  },
  {
   "cell_type": "code",
   "execution_count": 15,
   "id": "2df30837-444f-4300-b931-7af3002750d0",
   "metadata": {},
   "outputs": [],
   "source": [
    "df2 = df2.rename(columns={'Type': 'Reaction Type'})"
   ]
  },
  {
   "cell_type": "code",
   "execution_count": 17,
   "id": "fc89dd27-acc4-4f38-bda0-e1f7ed8642d2",
   "metadata": {},
   "outputs": [
    {
     "data": {
      "text/html": [
       "<div>\n",
       "<style scoped>\n",
       "    .dataframe tbody tr th:only-of-type {\n",
       "        vertical-align: middle;\n",
       "    }\n",
       "\n",
       "    .dataframe tbody tr th {\n",
       "        vertical-align: top;\n",
       "    }\n",
       "\n",
       "    .dataframe thead th {\n",
       "        text-align: right;\n",
       "    }\n",
       "</style>\n",
       "<table border=\"1\" class=\"dataframe\">\n",
       "  <thead>\n",
       "    <tr style=\"text-align: right;\">\n",
       "      <th></th>\n",
       "      <th>Content ID</th>\n",
       "      <th>User ID</th>\n",
       "      <th>Reaction Type</th>\n",
       "    </tr>\n",
       "  </thead>\n",
       "  <tbody>\n",
       "    <tr>\n",
       "      <th>0</th>\n",
       "      <td>97522e57-d9ab-4bd6-97bf-c24d952602d2</td>\n",
       "      <td>NaN</td>\n",
       "      <td>NaN</td>\n",
       "    </tr>\n",
       "    <tr>\n",
       "      <th>1</th>\n",
       "      <td>97522e57-d9ab-4bd6-97bf-c24d952602d2</td>\n",
       "      <td>5d454588-283d-459d-915d-c48a2cb4c27f</td>\n",
       "      <td>disgust</td>\n",
       "    </tr>\n",
       "    <tr>\n",
       "      <th>2</th>\n",
       "      <td>97522e57-d9ab-4bd6-97bf-c24d952602d2</td>\n",
       "      <td>92b87fa5-f271-43e0-af66-84fac21052e6</td>\n",
       "      <td>dislike</td>\n",
       "    </tr>\n",
       "    <tr>\n",
       "      <th>3</th>\n",
       "      <td>97522e57-d9ab-4bd6-97bf-c24d952602d2</td>\n",
       "      <td>163daa38-8b77-48c9-9af6-37a6c1447ac2</td>\n",
       "      <td>scared</td>\n",
       "    </tr>\n",
       "    <tr>\n",
       "      <th>4</th>\n",
       "      <td>97522e57-d9ab-4bd6-97bf-c24d952602d2</td>\n",
       "      <td>34e8add9-0206-47fd-a501-037b994650a2</td>\n",
       "      <td>disgust</td>\n",
       "    </tr>\n",
       "  </tbody>\n",
       "</table>\n",
       "</div>"
      ],
      "text/plain": [
       "                             Content ID                               User ID  \\\n",
       "0  97522e57-d9ab-4bd6-97bf-c24d952602d2                                   NaN   \n",
       "1  97522e57-d9ab-4bd6-97bf-c24d952602d2  5d454588-283d-459d-915d-c48a2cb4c27f   \n",
       "2  97522e57-d9ab-4bd6-97bf-c24d952602d2  92b87fa5-f271-43e0-af66-84fac21052e6   \n",
       "3  97522e57-d9ab-4bd6-97bf-c24d952602d2  163daa38-8b77-48c9-9af6-37a6c1447ac2   \n",
       "4  97522e57-d9ab-4bd6-97bf-c24d952602d2  34e8add9-0206-47fd-a501-037b994650a2   \n",
       "\n",
       "  Reaction Type  \n",
       "0           NaN  \n",
       "1       disgust  \n",
       "2       dislike  \n",
       "3        scared  \n",
       "4       disgust  "
      ]
     },
     "execution_count": 17,
     "metadata": {},
     "output_type": "execute_result"
    }
   ],
   "source": [
    "df2.head()"
   ]
  },
  {
   "cell_type": "code",
   "execution_count": 19,
   "id": "1205fffb-9f14-496a-9cb7-dbd0dcd987e4",
   "metadata": {},
   "outputs": [
    {
     "name": "stdout",
     "output_type": "stream",
     "text": [
      "<class 'pandas.core.frame.DataFrame'>\n",
      "RangeIndex: 25553 entries, 0 to 25552\n",
      "Data columns (total 3 columns):\n",
      " #   Column         Non-Null Count  Dtype \n",
      "---  ------         --------------  ----- \n",
      " 0   Content ID     25553 non-null  object\n",
      " 1   User ID        22534 non-null  object\n",
      " 2   Reaction Type  24573 non-null  object\n",
      "dtypes: object(3)\n",
      "memory usage: 599.0+ KB\n"
     ]
    }
   ],
   "source": [
    "df2.info()"
   ]
  },
  {
   "cell_type": "code",
   "execution_count": 21,
   "id": "6cf61a1f-6678-4120-8c41-a9360614a0ce",
   "metadata": {},
   "outputs": [],
   "source": [
    "pd.options.display.max_rows = None"
   ]
  },
  {
   "cell_type": "code",
   "execution_count": 23,
   "id": "e2721235-060e-4e2a-a119-eddb782af730",
   "metadata": {},
   "outputs": [],
   "source": [
    "df1['Category'] = df1['Category'].str.replace('\"', '')"
   ]
  },
  {
   "cell_type": "code",
   "execution_count": 25,
   "id": "784e9143-97db-4b83-be11-94a1c5b40c2e",
   "metadata": {},
   "outputs": [],
   "source": [
    "df1_final = df1.copy()"
   ]
  },
  {
   "cell_type": "code",
   "execution_count": 27,
   "id": "3cbe1685-ead3-4214-afac-d9f084b50550",
   "metadata": {},
   "outputs": [
    {
     "name": "stdout",
     "output_type": "stream",
     "text": [
      "<class 'pandas.core.frame.DataFrame'>\n",
      "RangeIndex: 25553 entries, 0 to 25552\n",
      "Data columns (total 3 columns):\n",
      " #   Column         Non-Null Count  Dtype \n",
      "---  ------         --------------  ----- \n",
      " 0   Content ID     25553 non-null  object\n",
      " 1   User ID        22534 non-null  object\n",
      " 2   Reaction Type  24573 non-null  object\n",
      "dtypes: object(3)\n",
      "memory usage: 599.0+ KB\n"
     ]
    }
   ],
   "source": [
    "df2.info()"
   ]
  },
  {
   "cell_type": "code",
   "execution_count": 29,
   "id": "25c0e67d-865b-47b9-af3c-28a82f8a6708",
   "metadata": {},
   "outputs": [],
   "source": [
    "df2 = df2.dropna(subset=['Reaction Type'])\n",
    "df2['User ID'] = df2['User ID'].fillna('Unknown')"
   ]
  },
  {
   "cell_type": "code",
   "execution_count": 31,
   "id": "1ee18ad9-30c6-415d-a09d-0b390a5d120d",
   "metadata": {},
   "outputs": [],
   "source": [
    "df2_final = df2.copy()"
   ]
  },
  {
   "cell_type": "code",
   "execution_count": 33,
   "id": "e4b2e46c-bc33-488e-a7f6-0ecd27d92917",
   "metadata": {},
   "outputs": [],
   "source": [
    "df3 = df3.rename(columns={'Type': 'Reaction Type'})\n",
    "df3 = df3.rename(columns={'Score': 'Reaction Popularity'})"
   ]
  },
  {
   "cell_type": "code",
   "execution_count": 35,
   "id": "87bbd219-ab13-46bb-b335-b8fd0540e04c",
   "metadata": {},
   "outputs": [],
   "source": [
    "df3_final = df3.copy()"
   ]
  },
  {
   "cell_type": "code",
   "execution_count": 37,
   "id": "f788f518-088a-4738-8733-5e7d68888035",
   "metadata": {},
   "outputs": [],
   "source": [
    "df2_df1 = pd.merge(df2_final, df1_final, on='Content ID', how='left')\n",
    "df_semifinal = pd.merge(df2_df1, df3_final, on='Reaction Type', how='left')"
   ]
  },
  {
   "cell_type": "code",
   "execution_count": 39,
   "id": "3e9cda10-0750-4313-8ed1-764a7ae09369",
   "metadata": {},
   "outputs": [],
   "source": [
    "df_concat = pd.concat([df2_df1, df_semifinal], axis=1)\n",
    "df_final = df_concat[['Content ID', 'Content Type', 'Category', 'Reaction Type', 'Reaction Popularity']]"
   ]
  },
  {
   "cell_type": "code",
   "execution_count": 41,
   "id": "bc842943-195e-447e-a070-cba51180ad88",
   "metadata": {},
   "outputs": [
    {
     "data": {
      "text/html": [
       "<div>\n",
       "<style scoped>\n",
       "    .dataframe tbody tr th:only-of-type {\n",
       "        vertical-align: middle;\n",
       "    }\n",
       "\n",
       "    .dataframe tbody tr th {\n",
       "        vertical-align: top;\n",
       "    }\n",
       "\n",
       "    .dataframe thead th {\n",
       "        text-align: right;\n",
       "    }\n",
       "</style>\n",
       "<table border=\"1\" class=\"dataframe\">\n",
       "  <thead>\n",
       "    <tr style=\"text-align: right;\">\n",
       "      <th></th>\n",
       "      <th>Content ID</th>\n",
       "      <th>Content Type</th>\n",
       "      <th>Category</th>\n",
       "      <th>Reaction Type</th>\n",
       "      <th>Reaction Popularity</th>\n",
       "    </tr>\n",
       "  </thead>\n",
       "  <tbody>\n",
       "    <tr>\n",
       "      <th>0</th>\n",
       "      <td>97522e57-d9ab-4bd6-97bf-c24d952602d2</td>\n",
       "      <td>photo</td>\n",
       "      <td>Studying</td>\n",
       "      <td>disgust</td>\n",
       "      <td>0</td>\n",
       "    </tr>\n",
       "    <tr>\n",
       "      <th>1</th>\n",
       "      <td>97522e57-d9ab-4bd6-97bf-c24d952602d2</td>\n",
       "      <td>photo</td>\n",
       "      <td>Studying</td>\n",
       "      <td>dislike</td>\n",
       "      <td>10</td>\n",
       "    </tr>\n",
       "    <tr>\n",
       "      <th>2</th>\n",
       "      <td>97522e57-d9ab-4bd6-97bf-c24d952602d2</td>\n",
       "      <td>photo</td>\n",
       "      <td>Studying</td>\n",
       "      <td>scared</td>\n",
       "      <td>15</td>\n",
       "    </tr>\n",
       "    <tr>\n",
       "      <th>3</th>\n",
       "      <td>97522e57-d9ab-4bd6-97bf-c24d952602d2</td>\n",
       "      <td>photo</td>\n",
       "      <td>Studying</td>\n",
       "      <td>disgust</td>\n",
       "      <td>0</td>\n",
       "    </tr>\n",
       "    <tr>\n",
       "      <th>4</th>\n",
       "      <td>97522e57-d9ab-4bd6-97bf-c24d952602d2</td>\n",
       "      <td>photo</td>\n",
       "      <td>Studying</td>\n",
       "      <td>interested</td>\n",
       "      <td>30</td>\n",
       "    </tr>\n",
       "  </tbody>\n",
       "</table>\n",
       "</div>"
      ],
      "text/plain": [
       "                             Content ID Content Type  Category Reaction Type  \\\n",
       "0  97522e57-d9ab-4bd6-97bf-c24d952602d2        photo  Studying       disgust   \n",
       "1  97522e57-d9ab-4bd6-97bf-c24d952602d2        photo  Studying       dislike   \n",
       "2  97522e57-d9ab-4bd6-97bf-c24d952602d2        photo  Studying        scared   \n",
       "3  97522e57-d9ab-4bd6-97bf-c24d952602d2        photo  Studying       disgust   \n",
       "4  97522e57-d9ab-4bd6-97bf-c24d952602d2        photo  Studying    interested   \n",
       "\n",
       "   Reaction Popularity  \n",
       "0                    0  \n",
       "1                   10  \n",
       "2                   15  \n",
       "3                    0  \n",
       "4                   30  "
      ]
     },
     "execution_count": 41,
     "metadata": {},
     "output_type": "execute_result"
    }
   ],
   "source": [
    "df_final = df_final.loc[:, ~df_final.columns.duplicated()]\n",
    "df_final.head()"
   ]
  },
  {
   "cell_type": "code",
   "execution_count": 43,
   "id": "8f4c4636-9841-495c-ab63-f7f99d197441",
   "metadata": {},
   "outputs": [
    {
     "name": "stdout",
     "output_type": "stream",
     "text": [
      "          Category  Reaction Popularity\n",
      "0          animals                74965\n",
      "9          science                71168\n",
      "7   healthy eating                69339\n",
      "12      technology                68738\n",
      "6             food                66676\n"
     ]
    }
   ],
   "source": [
    "df_final['Category'] = df_final['Category'].str.lower().str.strip()\n",
    "top_categories = df_final.groupby('Category')['Reaction Popularity'].sum().reset_index()\n",
    "top_categories = top_categories.sort_values(by='Reaction Popularity', ascending=False).head(5)\n",
    "\n",
    "# now let's check, everything else is done\n",
    "\n",
    "print(top_categories)"
   ]
  },
  {
   "cell_type": "code",
   "execution_count": 45,
   "id": "cba08f1b-b65a-4245-a569-a1f5a67114f3",
   "metadata": {},
   "outputs": [],
   "source": [
    "df_final.to_csv('df_final_preprocessed.csv', index=False)\n"
   ]
  }
 ],
 "metadata": {
  "kernelspec": {
   "display_name": "Python 3",
   "language": "python",
   "name": "python3"
  },
  "language_info": {
   "codemirror_mode": {
    "name": "ipython",
    "version": 3
   },
   "file_extension": ".py",
   "mimetype": "text/x-python",
   "name": "python",
   "nbconvert_exporter": "python",
   "pygments_lexer": "ipython3",
   "version": "3.12.4"
  }
 },
 "nbformat": 4,
 "nbformat_minor": 5
}
